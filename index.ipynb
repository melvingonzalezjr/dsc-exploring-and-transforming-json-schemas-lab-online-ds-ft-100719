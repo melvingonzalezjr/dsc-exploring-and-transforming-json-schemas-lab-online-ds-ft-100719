{
 "cells": [
  {
   "cell_type": "markdown",
   "metadata": {},
   "source": [
    "# Exploring and Transforming JSON Schemas"
   ]
  },
  {
   "cell_type": "markdown",
   "metadata": {},
   "source": [
    "# Introduction\n",
    "\n",
    "In this lesson, you'll formalize how to explore a JSON file whose structure and schema is unknown to you. This often happens in practice when you are handed a file or stumble upon one with little documentation."
   ]
  },
  {
   "cell_type": "markdown",
   "metadata": {},
   "source": [
    "## Objectives\n",
    "You will be able to:\n",
    "* Use the JSON module to load and parse JSON documents\n",
    "* Load and explore unknown JSON schemas\n",
    "* Convert JSON to a pandas dataframe"
   ]
  },
  {
   "cell_type": "markdown",
   "metadata": {},
   "source": [
    "## Loading the JSON file\n",
    "\n",
    "Load the data from the file `disease_data.json`."
   ]
  },
  {
   "cell_type": "code",
   "execution_count": 1,
   "metadata": {},
   "outputs": [],
   "source": [
    "import json\n",
    "f = open('disease_data.json')\n",
    "data = json.load(f)"
   ]
  },
  {
   "cell_type": "markdown",
   "metadata": {},
   "source": [
    "## Explore the first and second levels of the schema hierarchy"
   ]
  },
  {
   "cell_type": "code",
   "execution_count": 3,
   "metadata": {},
   "outputs": [
    {
     "data": {
      "text/plain": [
       "dict"
      ]
     },
     "metadata": {},
     "output_type": "display_data"
    },
    {
     "data": {
      "text/plain": [
       "dict_keys(['meta', 'data'])"
      ]
     },
     "execution_count": 3,
     "metadata": {},
     "output_type": "execute_result"
    }
   ],
   "source": [
    "display(type(data))\n",
    "data.keys()"
   ]
  },
  {
   "cell_type": "code",
   "execution_count": 11,
   "metadata": {
    "scrolled": true
   },
   "outputs": [
    {
     "data": {
      "text/plain": [
       "dict"
      ]
     },
     "metadata": {},
     "output_type": "display_data"
    },
    {
     "data": {
      "text/plain": [
       "dict_keys(['view'])"
      ]
     },
     "metadata": {},
     "output_type": "display_data"
    },
    {
     "data": {
      "text/plain": [
       "dict"
      ]
     },
     "execution_count": 11,
     "metadata": {},
     "output_type": "execute_result"
    }
   ],
   "source": [
    "display(type(data['meta']))\n",
    "display(data['meta'].keys())\n",
    "type(data['meta']['view'])"
   ]
  },
  {
   "cell_type": "code",
   "execution_count": 12,
   "metadata": {},
   "outputs": [
    {
     "data": {
      "text/plain": [
       "list"
      ]
     },
     "metadata": {},
     "output_type": "display_data"
    },
    {
     "data": {
      "text/plain": [
       "list"
      ]
     },
     "metadata": {},
     "output_type": "display_data"
    },
    {
     "data": {
      "text/plain": [
       "int"
      ]
     },
     "metadata": {},
     "output_type": "display_data"
    }
   ],
   "source": [
    "display(type(data['data']))\n",
    "display(type(data['data'][0]))\n",
    "display(type(data['data'][0][0]))"
   ]
  },
  {
   "cell_type": "markdown",
   "metadata": {},
   "source": [
    "## Convert to a DataFrame\n",
    "\n",
    "Create a DataFrame from the JSON file. Be sure to retrive the column names for the dataframe. (Search within the 'meta' key of the master dictionary.) The DataFrame should include all 42 columns."
   ]
  },
  {
   "cell_type": "code",
   "execution_count": 28,
   "metadata": {},
   "outputs": [
    {
     "data": {
      "text/html": [
       "<div>\n",
       "<style scoped>\n",
       "    .dataframe tbody tr th:only-of-type {\n",
       "        vertical-align: middle;\n",
       "    }\n",
       "\n",
       "    .dataframe tbody tr th {\n",
       "        vertical-align: top;\n",
       "    }\n",
       "\n",
       "    .dataframe thead th {\n",
       "        text-align: right;\n",
       "    }\n",
       "</style>\n",
       "<table border=\"1\" class=\"dataframe\">\n",
       "  <thead>\n",
       "    <tr style=\"text-align: right;\">\n",
       "      <th></th>\n",
       "      <th>sid</th>\n",
       "      <th>id</th>\n",
       "      <th>position</th>\n",
       "      <th>created_at</th>\n",
       "      <th>created_meta</th>\n",
       "      <th>updated_at</th>\n",
       "      <th>updated_meta</th>\n",
       "      <th>meta</th>\n",
       "      <th>YearStart</th>\n",
       "      <th>YearEnd</th>\n",
       "      <th>...</th>\n",
       "      <th>LocationID</th>\n",
       "      <th>TopicID</th>\n",
       "      <th>QuestionID</th>\n",
       "      <th>DataValueTypeID</th>\n",
       "      <th>StratificationCategoryID1</th>\n",
       "      <th>StratificationID1</th>\n",
       "      <th>StratificationCategoryID2</th>\n",
       "      <th>StratificationID2</th>\n",
       "      <th>StratificationCategoryID3</th>\n",
       "      <th>StratificationID3</th>\n",
       "    </tr>\n",
       "  </thead>\n",
       "  <tbody>\n",
       "    <tr>\n",
       "      <td>0</td>\n",
       "      <td>1</td>\n",
       "      <td>FF49C41F-CE8D-46C4-9164-653B1227CF6F</td>\n",
       "      <td>1</td>\n",
       "      <td>1527194521</td>\n",
       "      <td>959778</td>\n",
       "      <td>1527194521</td>\n",
       "      <td>959778</td>\n",
       "      <td>None</td>\n",
       "      <td>2016</td>\n",
       "      <td>2016</td>\n",
       "      <td>...</td>\n",
       "      <td>59</td>\n",
       "      <td>ALC</td>\n",
       "      <td>ALC2_2</td>\n",
       "      <td>CRDPREV</td>\n",
       "      <td>OVERALL</td>\n",
       "      <td>OVR</td>\n",
       "      <td>None</td>\n",
       "      <td>None</td>\n",
       "      <td>None</td>\n",
       "      <td>None</td>\n",
       "    </tr>\n",
       "    <tr>\n",
       "      <td>1</td>\n",
       "      <td>2</td>\n",
       "      <td>F4468C3D-340A-4CD2-84A3-DF554DFF065E</td>\n",
       "      <td>2</td>\n",
       "      <td>1527194521</td>\n",
       "      <td>959778</td>\n",
       "      <td>1527194521</td>\n",
       "      <td>959778</td>\n",
       "      <td>None</td>\n",
       "      <td>2016</td>\n",
       "      <td>2016</td>\n",
       "      <td>...</td>\n",
       "      <td>01</td>\n",
       "      <td>ALC</td>\n",
       "      <td>ALC2_2</td>\n",
       "      <td>CRDPREV</td>\n",
       "      <td>OVERALL</td>\n",
       "      <td>OVR</td>\n",
       "      <td>None</td>\n",
       "      <td>None</td>\n",
       "      <td>None</td>\n",
       "      <td>None</td>\n",
       "    </tr>\n",
       "    <tr>\n",
       "      <td>2</td>\n",
       "      <td>3</td>\n",
       "      <td>65609156-A343-4869-B03F-2BA62E96AC19</td>\n",
       "      <td>3</td>\n",
       "      <td>1527194521</td>\n",
       "      <td>959778</td>\n",
       "      <td>1527194521</td>\n",
       "      <td>959778</td>\n",
       "      <td>None</td>\n",
       "      <td>2016</td>\n",
       "      <td>2016</td>\n",
       "      <td>...</td>\n",
       "      <td>02</td>\n",
       "      <td>ALC</td>\n",
       "      <td>ALC2_2</td>\n",
       "      <td>CRDPREV</td>\n",
       "      <td>OVERALL</td>\n",
       "      <td>OVR</td>\n",
       "      <td>None</td>\n",
       "      <td>None</td>\n",
       "      <td>None</td>\n",
       "      <td>None</td>\n",
       "    </tr>\n",
       "    <tr>\n",
       "      <td>3</td>\n",
       "      <td>4</td>\n",
       "      <td>0DB09B00-EFEB-4AC0-9467-A7CBD2B57BF3</td>\n",
       "      <td>4</td>\n",
       "      <td>1527194521</td>\n",
       "      <td>959778</td>\n",
       "      <td>1527194521</td>\n",
       "      <td>959778</td>\n",
       "      <td>None</td>\n",
       "      <td>2016</td>\n",
       "      <td>2016</td>\n",
       "      <td>...</td>\n",
       "      <td>04</td>\n",
       "      <td>ALC</td>\n",
       "      <td>ALC2_2</td>\n",
       "      <td>CRDPREV</td>\n",
       "      <td>OVERALL</td>\n",
       "      <td>OVR</td>\n",
       "      <td>None</td>\n",
       "      <td>None</td>\n",
       "      <td>None</td>\n",
       "      <td>None</td>\n",
       "    </tr>\n",
       "    <tr>\n",
       "      <td>4</td>\n",
       "      <td>5</td>\n",
       "      <td>D98DA5BA-6FD6-40F5-A9B1-ABD45E44967B</td>\n",
       "      <td>5</td>\n",
       "      <td>1527194521</td>\n",
       "      <td>959778</td>\n",
       "      <td>1527194521</td>\n",
       "      <td>959778</td>\n",
       "      <td>None</td>\n",
       "      <td>2016</td>\n",
       "      <td>2016</td>\n",
       "      <td>...</td>\n",
       "      <td>05</td>\n",
       "      <td>ALC</td>\n",
       "      <td>ALC2_2</td>\n",
       "      <td>CRDPREV</td>\n",
       "      <td>OVERALL</td>\n",
       "      <td>OVR</td>\n",
       "      <td>None</td>\n",
       "      <td>None</td>\n",
       "      <td>None</td>\n",
       "      <td>None</td>\n",
       "    </tr>\n",
       "    <tr>\n",
       "      <td>...</td>\n",
       "      <td>...</td>\n",
       "      <td>...</td>\n",
       "      <td>...</td>\n",
       "      <td>...</td>\n",
       "      <td>...</td>\n",
       "      <td>...</td>\n",
       "      <td>...</td>\n",
       "      <td>...</td>\n",
       "      <td>...</td>\n",
       "      <td>...</td>\n",
       "      <td>...</td>\n",
       "      <td>...</td>\n",
       "      <td>...</td>\n",
       "      <td>...</td>\n",
       "      <td>...</td>\n",
       "      <td>...</td>\n",
       "      <td>...</td>\n",
       "      <td>...</td>\n",
       "      <td>...</td>\n",
       "      <td>...</td>\n",
       "      <td>...</td>\n",
       "    </tr>\n",
       "    <tr>\n",
       "      <td>60261</td>\n",
       "      <td>519150</td>\n",
       "      <td>1B28C1DD-B25F-457E-86E4-7D1463BE82C3</td>\n",
       "      <td>519150</td>\n",
       "      <td>1527194644</td>\n",
       "      <td>959778</td>\n",
       "      <td>1527194644</td>\n",
       "      <td>959778</td>\n",
       "      <td>None</td>\n",
       "      <td>2016</td>\n",
       "      <td>2016</td>\n",
       "      <td>...</td>\n",
       "      <td>72</td>\n",
       "      <td>DIS</td>\n",
       "      <td>DIS1_0</td>\n",
       "      <td>CRDPREV</td>\n",
       "      <td>RACE</td>\n",
       "      <td>ASN</td>\n",
       "      <td>None</td>\n",
       "      <td>None</td>\n",
       "      <td>None</td>\n",
       "      <td>None</td>\n",
       "    </tr>\n",
       "    <tr>\n",
       "      <td>60262</td>\n",
       "      <td>519704</td>\n",
       "      <td>4FF6ADF8-CC4B-4D94-A5B0-7766346A0D3E</td>\n",
       "      <td>519704</td>\n",
       "      <td>1527194644</td>\n",
       "      <td>959778</td>\n",
       "      <td>1527194644</td>\n",
       "      <td>959778</td>\n",
       "      <td>None</td>\n",
       "      <td>2016</td>\n",
       "      <td>2016</td>\n",
       "      <td>...</td>\n",
       "      <td>72</td>\n",
       "      <td>OVC</td>\n",
       "      <td>OVC3_1</td>\n",
       "      <td>CRDPREV</td>\n",
       "      <td>RACE</td>\n",
       "      <td>BLK</td>\n",
       "      <td>None</td>\n",
       "      <td>None</td>\n",
       "      <td>None</td>\n",
       "      <td>None</td>\n",
       "    </tr>\n",
       "    <tr>\n",
       "      <td>60263</td>\n",
       "      <td>519705</td>\n",
       "      <td>02896705-4A9F-45A2-A84B-923DEA6DC6A2</td>\n",
       "      <td>519705</td>\n",
       "      <td>1527194644</td>\n",
       "      <td>959778</td>\n",
       "      <td>1527194644</td>\n",
       "      <td>959778</td>\n",
       "      <td>None</td>\n",
       "      <td>2016</td>\n",
       "      <td>2016</td>\n",
       "      <td>...</td>\n",
       "      <td>72</td>\n",
       "      <td>OVC</td>\n",
       "      <td>OVC3_1</td>\n",
       "      <td>CRDPREV</td>\n",
       "      <td>RACE</td>\n",
       "      <td>AIAN</td>\n",
       "      <td>None</td>\n",
       "      <td>None</td>\n",
       "      <td>None</td>\n",
       "      <td>None</td>\n",
       "    </tr>\n",
       "    <tr>\n",
       "      <td>60264</td>\n",
       "      <td>519706</td>\n",
       "      <td>4DF2E74C-5043-474B-9739-98B4D8736BDB</td>\n",
       "      <td>519706</td>\n",
       "      <td>1527194644</td>\n",
       "      <td>959778</td>\n",
       "      <td>1527194644</td>\n",
       "      <td>959778</td>\n",
       "      <td>None</td>\n",
       "      <td>2016</td>\n",
       "      <td>2016</td>\n",
       "      <td>...</td>\n",
       "      <td>72</td>\n",
       "      <td>OVC</td>\n",
       "      <td>OVC3_1</td>\n",
       "      <td>CRDPREV</td>\n",
       "      <td>RACE</td>\n",
       "      <td>ASN</td>\n",
       "      <td>None</td>\n",
       "      <td>None</td>\n",
       "      <td>None</td>\n",
       "      <td>None</td>\n",
       "    </tr>\n",
       "    <tr>\n",
       "      <td>60265</td>\n",
       "      <td>519707</td>\n",
       "      <td>D742712D-EAFE-401B-83BB-AB93F597E907</td>\n",
       "      <td>519707</td>\n",
       "      <td>1527194644</td>\n",
       "      <td>959778</td>\n",
       "      <td>1527194644</td>\n",
       "      <td>959778</td>\n",
       "      <td>None</td>\n",
       "      <td>2016</td>\n",
       "      <td>2016</td>\n",
       "      <td>...</td>\n",
       "      <td>72</td>\n",
       "      <td>OVC</td>\n",
       "      <td>OVC3_1</td>\n",
       "      <td>CRDPREV</td>\n",
       "      <td>RACE</td>\n",
       "      <td>WHT</td>\n",
       "      <td>None</td>\n",
       "      <td>None</td>\n",
       "      <td>None</td>\n",
       "      <td>None</td>\n",
       "    </tr>\n",
       "  </tbody>\n",
       "</table>\n",
       "<p>60266 rows × 42 columns</p>\n",
       "</div>"
      ],
      "text/plain": [
       "          sid                                    id  position  created_at  \\\n",
       "0           1  FF49C41F-CE8D-46C4-9164-653B1227CF6F         1  1527194521   \n",
       "1           2  F4468C3D-340A-4CD2-84A3-DF554DFF065E         2  1527194521   \n",
       "2           3  65609156-A343-4869-B03F-2BA62E96AC19         3  1527194521   \n",
       "3           4  0DB09B00-EFEB-4AC0-9467-A7CBD2B57BF3         4  1527194521   \n",
       "4           5  D98DA5BA-6FD6-40F5-A9B1-ABD45E44967B         5  1527194521   \n",
       "...       ...                                   ...       ...         ...   \n",
       "60261  519150  1B28C1DD-B25F-457E-86E4-7D1463BE82C3    519150  1527194644   \n",
       "60262  519704  4FF6ADF8-CC4B-4D94-A5B0-7766346A0D3E    519704  1527194644   \n",
       "60263  519705  02896705-4A9F-45A2-A84B-923DEA6DC6A2    519705  1527194644   \n",
       "60264  519706  4DF2E74C-5043-474B-9739-98B4D8736BDB    519706  1527194644   \n",
       "60265  519707  D742712D-EAFE-401B-83BB-AB93F597E907    519707  1527194644   \n",
       "\n",
       "      created_meta  updated_at updated_meta  meta YearStart YearEnd  ...  \\\n",
       "0           959778  1527194521       959778  None      2016    2016  ...   \n",
       "1           959778  1527194521       959778  None      2016    2016  ...   \n",
       "2           959778  1527194521       959778  None      2016    2016  ...   \n",
       "3           959778  1527194521       959778  None      2016    2016  ...   \n",
       "4           959778  1527194521       959778  None      2016    2016  ...   \n",
       "...            ...         ...          ...   ...       ...     ...  ...   \n",
       "60261       959778  1527194644       959778  None      2016    2016  ...   \n",
       "60262       959778  1527194644       959778  None      2016    2016  ...   \n",
       "60263       959778  1527194644       959778  None      2016    2016  ...   \n",
       "60264       959778  1527194644       959778  None      2016    2016  ...   \n",
       "60265       959778  1527194644       959778  None      2016    2016  ...   \n",
       "\n",
       "      LocationID TopicID QuestionID DataValueTypeID StratificationCategoryID1  \\\n",
       "0             59     ALC     ALC2_2         CRDPREV                   OVERALL   \n",
       "1             01     ALC     ALC2_2         CRDPREV                   OVERALL   \n",
       "2             02     ALC     ALC2_2         CRDPREV                   OVERALL   \n",
       "3             04     ALC     ALC2_2         CRDPREV                   OVERALL   \n",
       "4             05     ALC     ALC2_2         CRDPREV                   OVERALL   \n",
       "...          ...     ...        ...             ...                       ...   \n",
       "60261         72     DIS     DIS1_0         CRDPREV                      RACE   \n",
       "60262         72     OVC     OVC3_1         CRDPREV                      RACE   \n",
       "60263         72     OVC     OVC3_1         CRDPREV                      RACE   \n",
       "60264         72     OVC     OVC3_1         CRDPREV                      RACE   \n",
       "60265         72     OVC     OVC3_1         CRDPREV                      RACE   \n",
       "\n",
       "      StratificationID1 StratificationCategoryID2 StratificationID2  \\\n",
       "0                   OVR                      None              None   \n",
       "1                   OVR                      None              None   \n",
       "2                   OVR                      None              None   \n",
       "3                   OVR                      None              None   \n",
       "4                   OVR                      None              None   \n",
       "...                 ...                       ...               ...   \n",
       "60261               ASN                      None              None   \n",
       "60262               BLK                      None              None   \n",
       "60263              AIAN                      None              None   \n",
       "60264               ASN                      None              None   \n",
       "60265               WHT                      None              None   \n",
       "\n",
       "      StratificationCategoryID3 StratificationID3  \n",
       "0                          None              None  \n",
       "1                          None              None  \n",
       "2                          None              None  \n",
       "3                          None              None  \n",
       "4                          None              None  \n",
       "...                         ...               ...  \n",
       "60261                      None              None  \n",
       "60262                      None              None  \n",
       "60263                      None              None  \n",
       "60264                      None              None  \n",
       "60265                      None              None  \n",
       "\n",
       "[60266 rows x 42 columns]"
      ]
     },
     "execution_count": 28,
     "metadata": {},
     "output_type": "execute_result"
    }
   ],
   "source": [
    "import pandas as pd\n",
    "data['meta']['view'].keys()\n",
    "columns = data['meta']['view']['columns']\n",
    "\n",
    "column_names = [col['name'] for col in columns]\n",
    "df = pd.DataFrame(data['data'], columns=column_names)\n",
    "df.head()"
   ]
  },
  {
   "cell_type": "markdown",
   "metadata": {},
   "source": [
    "## Level-Up\n",
    "## Create a bar graph of states with the highest asthma rates for adults age 18+"
   ]
  },
  {
   "cell_type": "code",
   "execution_count": 132,
   "metadata": {},
   "outputs": [
    {
     "data": {
      "text/plain": [
       "RACE       540\n",
       "GENDER     220\n",
       "OVERALL    110\n",
       "Name: StratificationCategoryID1, dtype: int64"
      ]
     },
     "execution_count": 132,
     "metadata": {},
     "output_type": "execute_result"
    }
   ],
   "source": [
    "df[df['Topic'] == 'Asthma'].Question.value_counts(normalize=True)\n",
    "asthma = df[df['Question'] == 'Current asthma prevalence among adults aged >= 18 years']\n",
    "asthma['StratificationCategoryID1'].value_counts()"
   ]
  },
  {
   "cell_type": "code",
   "execution_count": 133,
   "metadata": {},
   "outputs": [],
   "source": [
    "asthma = asthma[asthma['StratificationCategoryID1'] == 'OVERALL']\n",
    "asthma['DataValueTypeID'].value_counts()\n",
    "asthma = asthma[asthma['DataValueTypeID'] == 'CRDPREV']\n",
    "asthma = asthma[['LocationAbbr','DataValue']]\n",
    "asthma = asthma.set_index(['LocationAbbr'])"
   ]
  },
  {
   "cell_type": "code",
   "execution_count": 134,
   "metadata": {},
   "outputs": [],
   "source": [
    "import matplotlib.pyplot as plt\n",
    "%matplotlib inline"
   ]
  },
  {
   "cell_type": "code",
   "execution_count": 144,
   "metadata": {},
   "outputs": [
    {
     "data": {
      "image/png": "[encoded data removed]",
      "text/plain": [
       "<Figure size 1080x576 with 1 Axes>"
      ]
     },
     "metadata": {
      "needs_background": "light"
     },
     "output_type": "display_data"
    }
   ],
   "source": [
    "asthma.DataValue = asthma['DataValue'].astype('float')\n",
    "asthma = asthma.sort_values(by='DataValue')\n",
    "asthma.plot.bar(figsize=(15,8));"
   ]
  },
  {
   "cell_type": "markdown",
   "metadata": {},
   "source": [
    "## Summary\n",
    "\n",
    "Well done! In this lab you got some extended practice exploring the structure of JSON files, converting json files to pandas DataFrame, and visualizing data!"
   ]
  }
 ],
 "metadata": {
  "kernelspec": {
   "display_name": "Python 3",
   "language": "python",
   "name": "python3"
  },
  "language_info": {
   "codemirror_mode": {
    "name": "ipython",
    "version": 3
   },
   "file_extension": ".py",
   "mimetype": "text/x-python",
   "name": "python",
   "nbconvert_exporter": "python",
   "pygments_lexer": "ipython3",
   "version": "3.6.9"
  },
  "toc": {
   "base_numbering": 1,
   "nav_menu": {},
   "number_sections": true,
   "sideBar": true,
   "skip_h1_title": false,
   "title_cell": "Table of Contents",
   "title_sidebar": "Contents",
   "toc_cell": false,
   "toc_position": {},
   "toc_section_display": true,
   "toc_window_display": false
  }
 },
 "nbformat": 4,
 "nbformat_minor": 2
}
